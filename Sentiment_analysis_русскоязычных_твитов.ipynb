{
  "nbformat": 4,
  "nbformat_minor": 0,
  "metadata": {
    "colab": {
      "name": "Sentiment analysis русскоязычных твитов.ipynb",
      "provenance": [],
      "collapsed_sections": [],
      "authorship_tag": "ABX9TyM9K1OZ2WIfv4wUeyEjmxcU",
      "include_colab_link": true
    },
    "kernelspec": {
      "name": "python3",
      "display_name": "Python 3"
    }
  },
  "cells": [
    {
      "cell_type": "markdown",
      "metadata": {
        "id": "view-in-github",
        "colab_type": "text"
      },
      "source": [
        "<a href=\"https://colab.research.google.com/github/kinfi4/Sentimental_Tweet_Analysis/blob/master/Sentiment_analysis_%D1%80%D1%83%D1%81%D1%81%D0%BA%D0%BE%D1%8F%D0%B7%D1%8B%D1%87%D0%BD%D1%8B%D1%85_%D1%82%D0%B2%D0%B8%D1%82%D0%BE%D0%B2.ipynb\" target=\"_parent\"><img src=\"https://colab.research.google.com/assets/colab-badge.svg\" alt=\"Open In Colab\"/></a>"
      ]
    },
    {
      "cell_type": "markdown",
      "metadata": {
        "id": "otEP99fPFyv5",
        "colab_type": "text"
      },
      "source": [
        "\n",
        "IMPORTS"
      ]
    },
    {
      "cell_type": "code",
      "metadata": {
        "id": "O4IOK95Fm3vQ",
        "colab_type": "code",
        "colab": {}
      },
      "source": [
        "# !pip uninstall tensorflow\n",
        "# !pip install tensorflow==1.13.2\n",
        "\n",
        "\n",
        "import pandas as pd\n",
        "import numpy as np\n",
        "import tensorflow as tf\n",
        "import tflearn\n",
        "import re\n",
        " \n",
        "\n",
        "from collections import Counter\n",
        "from sklearn.model_selection import train_test_split\n",
        "from tflearn.data_utils import to_categorical\n",
        "from nltk.stem.snowball import RussianStemmer\n",
        "from nltk.tokenize import TweetTokenizer"
      ],
      "execution_count": null,
      "outputs": []
    },
    {
      "cell_type": "code",
      "metadata": {
        "id": "iV0SSuV8I-jm",
        "colab_type": "code",
        "colab": {}
      },
      "source": [
        "POSITVE_TWEETS = 'positive.csv'\n",
        "NEGATIVE_TWEETS = 'negative.csv'\n",
        "\n",
        "VOCAB_SIZE = 5000"
      ],
      "execution_count": null,
      "outputs": []
    },
    {
      "cell_type": "markdown",
      "metadata": {
        "id": "z_GPjNddNsrC",
        "colab_type": "text"
      },
      "source": [
        "LOAD DATA"
      ]
    },
    {
      "cell_type": "code",
      "metadata": {
        "id": "BrTiFsAWNBjf",
        "colab_type": "code",
        "colab": {}
      },
      "source": [
        "tweets_col_number = 3\n",
        "\n",
        "\n",
        "negative_tweets = pd.read_csv(\n",
        "    'negative.csv', header=None, delimiter=';')[[tweets_col_number]][:50000]\n",
        "positive_tweets = pd.read_csv(\n",
        "    'positive.csv', header=None, delimiter=';')[[tweets_col_number]][:50000]\n",
        "\n"
      ],
      "execution_count": null,
      "outputs": []
    },
    {
      "cell_type": "code",
      "metadata": {
        "id": "lAnxMjMiNqfG",
        "colab_type": "code",
        "colab": {}
      },
      "source": [
        "stemer = RussianStemmer()\n",
        "regex = re.compile('[^а-яА-Я]')\n",
        "stem_cache = {}\n",
        "\n",
        "def get_stem(token):\n",
        "  stem = stem_cache.get(token, None)\n",
        "  if stem:\n",
        "    return stem\n",
        "  token = regex.sub('', token).lower()\n",
        "  stem = stemer.stem(token)\n",
        "  stem_cache[token] = stem\n",
        "  return stem\n"
      ],
      "execution_count": null,
      "outputs": []
    },
    {
      "cell_type": "markdown",
      "metadata": {
        "id": "2z2FsUGxQYLR",
        "colab_type": "text"
      },
      "source": [
        "Создание словаря"
      ]
    },
    {
      "cell_type": "code",
      "metadata": {
        "id": "pzbuRKEQN8i-",
        "colab_type": "code",
        "colab": {}
      },
      "source": [
        "stem_count = Counter()\n",
        "tokenizer = TweetTokenizer()\n",
        "\n",
        "def count_unique_stems(tweets):\n",
        "  for _, tweet_series in tweets.iterrows():\n",
        "    tweet = tweet_series[3]\n",
        "    tokens = tokenizer.tokenize(tweet)\n",
        "    \n",
        "    for token in tokens:\n",
        "      stem = get_stem(token)\n",
        "      stem_count[stem] += 1\n",
        "\n",
        "count_unique_stems(positive_tweets)\n",
        "count_unique_stems(negative_tweets)\n"
      ],
      "execution_count": null,
      "outputs": []
    },
    {
      "cell_type": "code",
      "metadata": {
        "id": "SGIKvRWQSOOT",
        "colab_type": "code",
        "colab": {}
      },
      "source": [
        "vocab = sorted(stem_count, key=stem_count.get, reverse=True)[:VOCAB_SIZE]\n",
        "print(vocab[:100])"
      ],
      "execution_count": null,
      "outputs": []
    },
    {
      "cell_type": "code",
      "metadata": {
        "id": "YEVRFaXKTxxd",
        "colab_type": "code",
        "colab": {
          "base_uri": "https://localhost:8080/",
          "height": 34
        },
        "outputId": "475804d5-daf5-4680-8443-e273ac436f27"
      },
      "source": [
        "token_to_int = {vocab[i]: i for i in range(VOCAB_SIZE)}\n",
        "len(token_to_int)\n",
        "print(token_to_int.get('в'))"
      ],
      "execution_count": null,
      "outputs": [
        {
          "output_type": "stream",
          "text": [
            "4\n"
          ],
          "name": "stdout"
        }
      ]
    },
    {
      "cell_type": "code",
      "metadata": {
        "id": "rlALOSwPlERQ",
        "colab_type": "code",
        "colab": {}
      },
      "source": [
        "def tweet_to_vector(tweet, show_unknowns=False):\n",
        "  vector = np.zeros(VOCAB_SIZE, dtype=np.int_)\n",
        "  for token in tokenizer.tokenize(tweet):\n",
        "    stem = get_stem(token)\n",
        "    index = token_to_int.get(stem)\n",
        "\n",
        "    if index is not None:\n",
        "      vector[index] = 1\n",
        "    elif show_unknowns:\n",
        "      print(f\"The {stem} not found\")\n",
        "\n",
        "  return vector\n"
      ],
      "execution_count": null,
      "outputs": []
    },
    {
      "cell_type": "code",
      "metadata": {
        "id": "CjGdvXwelOxy",
        "colab_type": "code",
        "colab": {
          "base_uri": "https://localhost:8080/",
          "height": 67
        },
        "outputId": "4fa81217-c2e7-4726-843f-ff5e39d70152"
      },
      "source": [
        "tweet = negative_tweets.iloc[1][3]\n",
        "print(tweet)\n",
        "print(tweet_to_vector(tweet)[:10])\n",
        "print(vocab[4])\n"
      ],
      "execution_count": null,
      "outputs": [
        {
          "output_type": "stream",
          "text": [
            "Коллеги сидят рубятся в Urban terror, а я из-за долбанной винды не могу :(\n",
            "[1 1 1 0 1 0 1 0 0 0]\n",
            "в\n"
          ],
          "name": "stdout"
        }
      ]
    },
    {
      "cell_type": "code",
      "metadata": {
        "id": "-oThRvnEoXAU",
        "colab_type": "code",
        "colab": {}
      },
      "source": [
        "tweets_matrix = np.zeros((len(negative_tweets) + len(positive_tweets), VOCAB_SIZE),\n",
        "                         dtype=np.int_)\n",
        "\n",
        "tweets = []\n",
        "for ii, (_, tweet) in enumerate(negative_tweets.iterrows()):\n",
        "  tweets.append(tweet[3])\n",
        "  tweets_matrix[ii] = tweet_to_vector(tweet[3])\n",
        "\n",
        "for ii, (_, tweet) in enumerate(positive_tweets.iterrows()):\n",
        "  tweets.append(tweet[3])\n",
        "  tweets_matrix[ii + len(negative_tweets)] = tweet_to_vector(tweet[3]) \n",
        "\n"
      ],
      "execution_count": null,
      "outputs": []
    },
    {
      "cell_type": "code",
      "metadata": {
        "id": "8oEx8p5xTtN5",
        "colab_type": "code",
        "colab": {}
      },
      "source": [
        "labels = np.append(\n",
        "    np.zeros(len(negative_tweets), dtype=np.int_),\n",
        "    np.ones(len(positive_tweets), dtype=np.int_)\n",
        ")"
      ],
      "execution_count": null,
      "outputs": []
    },
    {
      "cell_type": "code",
      "metadata": {
        "id": "sCFwTUE1UJae",
        "colab_type": "code",
        "colab": {}
      },
      "source": [
        "print(labels[:10])\n",
        "print(labels[-10:])"
      ],
      "execution_count": null,
      "outputs": []
    },
    {
      "cell_type": "code",
      "metadata": {
        "id": "6WAuPjzZUViP",
        "colab_type": "code",
        "colab": {}
      },
      "source": [
        "X = tweets_matrix\n",
        "y = to_categorical(labels, 2)\n",
        "X_train, X_test, y_train, y_test = train_test_split(X, y, test_size=0.3)\n"
      ],
      "execution_count": null,
      "outputs": []
    },
    {
      "cell_type": "code",
      "metadata": {
        "id": "hNhwabL6XfAS",
        "colab_type": "code",
        "colab": {}
      },
      "source": [
        "print(y_test[:10])"
      ],
      "execution_count": null,
      "outputs": []
    },
    {
      "cell_type": "markdown",
      "metadata": {
        "id": "GuaLWtQpXWdu",
        "colab_type": "text"
      },
      "source": [
        "BUILDING THE NN"
      ]
    },
    {
      "cell_type": "code",
      "metadata": {
        "id": "sExer-rXXQ1e",
        "colab_type": "code",
        "colab": {}
      },
      "source": [
        "def build_NN(learning_rate=0.1):\n",
        "  tf.reset_default_graph()\n",
        "\n",
        "  net = tflearn.input_data([None, VOCAB_SIZE])\n",
        "  net = tflearn.fully_connected(net, 125, activation='ReLU')\n",
        "  net = tflearn.fully_connected(net, 25, activation='ReLU')\n",
        "  net = tflearn.fully_connected(net, 2, activation='softmax')\n",
        "\n",
        "  regression = tflearn.regression(\n",
        "      net, \n",
        "      optimizer='sgd',\n",
        "      learning_rate=learning_rate,\n",
        "      loss='categorical_crossentropy')\n",
        "  \n",
        "  model = tflearn.DNN(net)\n",
        "  return model"
      ],
      "execution_count": null,
      "outputs": []
    },
    {
      "cell_type": "code",
      "metadata": {
        "id": "xZvpDZQhZKhv",
        "colab_type": "code",
        "colab": {}
      },
      "source": [
        "model = build_NN(0.75)"
      ],
      "execution_count": null,
      "outputs": []
    },
    {
      "cell_type": "code",
      "metadata": {
        "id": "NuuNPYyOZQrT",
        "colab_type": "code",
        "colab": {
          "base_uri": "https://localhost:8080/",
          "height": 101
        },
        "outputId": "a8f992f5-bb0d-4ac5-9842-6450ee82308b"
      },
      "source": [
        "model.fit(\n",
        "    X_train,\n",
        "    y_train,\n",
        "    30,\n",
        "    0.1,\n",
        "    True,\n",
        "    128\n",
        ")"
      ],
      "execution_count": null,
      "outputs": [
        {
          "output_type": "stream",
          "text": [
            "Training Step: 14789  | total loss: \u001b[1m\u001b[32m0.10001\u001b[0m\u001b[0m | time: 11.237s\n",
            "| SGD | epoch: 030 | loss: 0.10001 - acc: 0.9797 -- iter: 62976/63000\n",
            "Training Step: 14790  | total loss: \u001b[1m\u001b[32m0.09403\u001b[0m\u001b[0m | time: 12.335s\n",
            "| SGD | epoch: 030 | loss: 0.09403 - acc: 0.9802 | val_loss: 1.56635 - val_acc: 0.7087 -- iter: 63000/63000\n",
            "--\n"
          ],
          "name": "stdout"
        }
      ]
    },
    {
      "cell_type": "code",
      "metadata": {
        "id": "5eVBRruybz8M",
        "colab_type": "code",
        "colab": {
          "base_uri": "https://localhost:8080/",
          "height": 34
        },
        "outputId": "fe47272d-3df2-4300-d473-0bb7f5cb970b"
      },
      "source": [
        "\n",
        "predictions = (np.array(model.predict(X_test))[:,0] >= 0.5).astype(np.int_)\n",
        "accuracy = np.mean(predictions == y_test[:,0], axis=0)\n",
        "print(\"Accuracy: \", accuracy)"
      ],
      "execution_count": null,
      "outputs": [
        {
          "output_type": "stream",
          "text": [
            "Accuracy:  0.7055333333333333\n"
          ],
          "name": "stdout"
        }
      ]
    }
  ]
}